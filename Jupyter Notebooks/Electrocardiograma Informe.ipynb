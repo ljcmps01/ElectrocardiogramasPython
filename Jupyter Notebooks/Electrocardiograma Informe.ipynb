{
 "cells": [
  {
   "cell_type": "markdown",
   "metadata": {},
   "source": [
    "# Trabajo Final - Lectura y analisis de Electrocardiograma"
   ]
  },
  {
   "cell_type": "markdown",
   "metadata": {},
   "source": [
    "Primero que nada, se dejó la siguiente celda de codigo en caso de que no se disponga del archivo dado en el Collab de el trabajo integrador:"
   ]
  },
  {
   "cell_type": "code",
   "execution_count": 1,
   "metadata": {},
   "outputs": [],
   "source": [
    "import requests\n",
    "\n",
    "def wget(url):\n",
    "    r = requests.get(url, allow_redirects=True)\n",
    "    with open(url[url.rfind('/') + 1::], 'wb') as f:\n",
    "        f.write(r.content)\n",
    "\n",
    "wget(\"https://raw.githubusercontent.com/IEEESBITBA/Curso-Python/master/Clase_4_datos/electrocardiograma.xlsx\")"
   ]
  },
  {
   "cell_type": "markdown",
   "metadata": {},
   "source": [
    "***\n",
    "\n",
    "Con el .xlsx descargado, se decidió hacer un grafico rapido del archivo utilizando python junto con la libreria pandas y matplot para tener una mejor idea y comprensión de los datos:"
   ]
  },
  {
   "cell_type": "code",
   "execution_count": 2,
   "metadata": {},
   "outputs": [
    {
     "data": {
      "text/plain": [
       "<Figure size 2000x800 with 1 Axes>"
      ]
     },
     "metadata": {},
     "output_type": "display_data"
    }
   ],
   "source": [
    "import pandas as pd\n",
    "import matplotlib.pyplot as plt\n",
    "import numpy as np\n",
    "import scipy.signal as scp\n",
    "\n",
    "#Leo el excel y lo guardo en la variable File\n",
    "File=pd.read_excel(\"electrocardiograma.xlsx\")\n",
    "#Guardo en otra variable el archivo pero en formato dictionary\n",
    "\n",
    "xEC=list()  #valores en X del grafico\n",
    "yEC=list()  #valores en Y del grafico\n",
    "\n",
    "#Se guarda los valores de tiempo y señal en los ejes X Y, respectivamente\n",
    "for i in range(len(File['señal'])):\n",
    "    #Guardo la informacion del indice x del archivo en una variable auxiliar\n",
    "    aux=File.loc[i]\n",
    "    #Le agrego al eje Y el indice i de la columna de señales\n",
    "    yEC.append(aux['señal']) \n",
    "    #Le agrego al eje X el indice i de la columna de tiempo\n",
    "    xEC.append(aux['tiempo'])  \n",
    "    \n",
    "#Le doy un poco de formato al grafico\n",
    "plt.figure(figsize=(20,8))\n",
    "plt.title('Electrocardiograma')\n",
    "plt.xlabel('Tiempo (seg)')\n",
    "plt.ylabel('Señal')\n",
    "\n",
    "#Grafico los ejes X Y y la data recibida del excel\n",
    "plt.plot(xEC,yEC,'b-')\n",
    "\n",
    "plt.show()"
   ]
  },
  {
   "cell_type": "markdown",
   "metadata": {},
   "source": [
    "Junto con el archivo se dieron diferentes datos y pautas:\n",
    "* Las mediciones fueron tomadas con una frecuencia de 360Hz\n",
    "* Se debe calcular los picos del grafico y marcarlos\n",
    "* Se debe calcular la frecuencia cardiaca del paciente medida en latidos por minuto\n",
    "* Determinar el estado del paciente mientras fue realizado el analisis (Si estaba durmiendo, reposando o realizando actividad fisica)\n",
    "* Realizar las preguntas necesarias acerca del paciente para poder calcular el nivel de actividad fisica del paciente mientras se realizaron las mediciones\n",
    "* Almacenar los datos recopilados en un archivo de texto (.txt)"
   ]
  },
  {
   "cell_type": "markdown",
   "metadata": {},
   "source": [
    "## Detección de los picos\n",
    "Una vez graficado el excel y establecido los objetivos a cumplir se prosiguió a detectar y graficar los picos del grafico utilizando la libreria [scipy.signal](https://docs.scipy.org/doc/scipy/reference/generated/scipy.signal.find_peaks.html) que se nos fue facilitada en las consignas del trabajo\n",
    "\n",
    "Dentro de la libreria existe un *metodo* llamado \".find_peaks()\" cuya función es, como su nombre lo indica, encontrar picos en señales. Para utilizarla se debe pasar como parametro **como minimo** la columna de señales (previamente guardada en la lista yEC), sin embargo se puede definir otros parametros dentro de la función para realizar un filtro en el analisis de la señal para evitar detectar falsos picos.\n",
    "\n",
    "Dentro de dichos parametros se encuentra distance,height, threshold, prominence, nos enfocaremos en el ultimo ya que es la mas apropiada para este caso.\n",
    "\n",
    "A continuacion se definen dos funcionen que serviran para preparar los graficos, uno para la señal y otro para los picos:"
   ]
  },
  {
   "cell_type": "code",
   "execution_count": 3,
   "metadata": {},
   "outputs": [],
   "source": [
    "import matplotlib.pyplot as plt\n",
    "import scipy.signal as scp\n",
    "\n",
    "#funcion para preparar el plot de un grafico\n",
    "def ploteo(x,y,lt=0,xl=0,yl=0,tl=0): #eje x, eje y, tipo de linea,label x,label y, titulo del grafico\n",
    "    #Si un titulo para el grafico se declarado lo agrego\n",
    "    if tl:\n",
    "        plt.title(tl)\n",
    "    #Si un label para el eje x fue declarado, lo agrego\n",
    "    if xl:\n",
    "        plt.xlabel(xl)\n",
    "    #Si un label para el eje y fue declarado, lo agrego\n",
    "    if yl:\n",
    "        plt.ylabel(yl)\n",
    "    #Si se requiere un tipo de linea en especifico se lo agrego\n",
    "    if lt:\n",
    "        plt.plot(x,y,lt)\n",
    "    #Caso contrario, uso el tipo de linea predeterminado\n",
    "    else:\n",
    "        plt.plot(x,y)\n",
    "\n",
    "#funcion para detectar los picos de una señal y añadirlos al plot\n",
    "def pk_plot(signal,indices,p=0): #eje y, eje x, valor de prominencia\n",
    "    ypicos=list()\n",
    "    xpicos=list()\n",
    "    if p:\n",
    "        picos=scp.find_peaks(signal,prominence=p)\n",
    "    else:\n",
    "        picos=scp.find_peaks(signal)\n",
    "    index=picos[0]\n",
    "    for i in index:\n",
    "        xpicos.append(indices[i])\n",
    "    \n",
    "    for h in range(len(xpicos)):\n",
    "        ypicos.append(signal[index[h]])\n",
    "    plt.plot(xpicos,ypicos,\"ro\")\n",
    "    return index"
   ]
  },
  {
   "cell_type": "markdown",
   "metadata": {},
   "source": [
    "***\n",
    "Ya habiendo declarado las funciones, a continuación se mostrará un ejemplo de como puede variar la detección de picos en función del parametro p:"
   ]
  },
  {
   "cell_type": "code",
   "execution_count": 4,
   "metadata": {},
   "outputs": [
    {
     "data": {
      "image/png": "[encoded data removed]",
      "text/plain": [
       "<Figure size 432x288 with 4 Axes>"
      ]
     },
     "metadata": {
      "needs_background": "light"
     },
     "output_type": "display_data"
    }
   ],
   "source": [
    "#Leo el excel y lo guardo en la variable File\n",
    "File=pd.read_excel(\"electrocardiograma.xlsx\")\n",
    "#Guardo en otra variable el archivo pero en formato dictionary\n",
    "EleCardio=File.to_dict('list')\n",
    "\n",
    "xEC=list()  #Eje X del grafico\n",
    "yEC=list()  #Eje Y del grafico\n",
    "\n",
    "#Se guarda los valores de tiempo y señal en los ejes X Y, respectivamente\n",
    "for i in range(len(File['señal'])):\n",
    "    #Guardo la informacion del indice x del archivo en una variable auxiliar\n",
    "    aux=File.loc[i]\n",
    "    #Le agrego al eje Y el indice i de la columna de señales\n",
    "    yEC.append(aux['señal']) \n",
    "    #Le agrego al eje X el indice i de la columna de tiempo\n",
    "    xEC.append(aux['tiempo'])  \n",
    "\n",
    "#Se hace un grafico con picos sin filtro\n",
    "plt.subplot(3,2,1)\n",
    "ploteo(xEC,yEC,tl=\"sin filtro\")\n",
    "pk_plot(yEC,xEC)\n",
    "\n",
    "#Se hace un grafico con picos el filtro de prominencia=0.1\n",
    "plt.subplot(3,2,2)\n",
    "ploteo(xEC,yEC,tl=\"prominencia 0.1\")\n",
    "pk_plot(yEC,xEC,0.1)\n",
    "\n",
    "#Se hace un grafico con picos el filtro de prominencia=0.5\n",
    "plt.subplot(2,2,3)\n",
    "ploteo(xEC,yEC,tl=\"prominencia 0.5\")\n",
    "pk_plot(yEC,xEC,0.5)\n",
    "\n",
    "#Se hace un grafico con picos el filtro de prominencia=1\n",
    "plt.subplot(2,2,4)\n",
    "ploteo(xEC,yEC,tl=\"prominencia 1\")\n",
    "pk_plot(yEC,xEC,1)\n",
    "    \n",
    "#Imprimo todos los graficos juntos\n",
    "plt.show()"
   ]
  },
  {
   "cell_type": "markdown",
   "metadata": {},
   "source": [
    "Claramente en este caso, los valores que mejor resultados dieron fueron con la prominencia igual a 0,5 o 1 por lo que se adoptará este ultimo valor para hacer el grafico final y marcar los picos maximos locales de la señal:"
   ]
  },
  {
   "cell_type": "code",
   "execution_count": 5,
   "metadata": {},
   "outputs": [
    {
     "data": {
      "image/png": "[encoded data removed]",
      "text/plain": [
       "<Figure size 432x288 with 1 Axes>"
      ]
     },
     "metadata": {
      "needs_background": "light"
     },
     "output_type": "display_data"
    },
    {
     "name": "stdout",
     "output_type": "stream",
     "text": [
      "Se detectaron  5  picos\n"
     ]
    }
   ],
   "source": [
    "#Leo el excel y lo guardo en la variable File\n",
    "File=pd.read_excel(\"electrocardiograma.xlsx\")\n",
    "#Guardo en otra variable el archivo pero en formato dictionary\n",
    "EleCardio=File.to_dict('list')\n",
    "\n",
    "xEC=list()  #Eje X del grafico\n",
    "yEC=list()  #Eje Y del grafico\n",
    "tLabel=list()\n",
    "xlinea=list()\n",
    "ylinea=list()\n",
    "\n",
    "#Se guarda los valores de tiempo y señal en los ejes X Y, respectivamente\n",
    "for i in range(len(File['señal'])):\n",
    "    #Guardo la informacion del indice x del archivo en una variable auxiliar\n",
    "    aux=File.loc[i]\n",
    "    #Le agrego al eje Y el indice i de la columna de señales\n",
    "    yEC.append(aux['señal']) \n",
    "    #Le agrego al eje X el indice i de la columna de tiempo\n",
    "    xEC.append(aux['tiempo'])  \n",
    "\n",
    "#Se preparan los graficos de la señal y la deteccion de picos y guardamos la cantidad de picos leidos en una variable\n",
    "#para asegurar que no hayan picos escondidos uno cerca del otro\n",
    "ploteo(xEC,yEC,0,xl='tiempo',yl='eV',tl='ElectroCardiograma')\n",
    "cant_picos=len(pk_plot(yEC,xEC,1))\n",
    "    \n",
    "plt.show()\n",
    "print(\"Se detectaron \",cant_picos,\" picos\")"
   ]
  },
  {
   "cell_type": "markdown",
   "metadata": {},
   "source": [
    "Ya fue completado el primer punto, graficar la señal dada y marcar los picos maximos.\n",
    "\n",
    "El siguiente paso a realizar es calcular en base a los datos dados la frecuencia cardiaca del paciente, sin embargo a simple vista no hay nada que indique que estos datos.\n",
    "\n",
    "## Calculo de frecuencia cardiaca\n",
    "Tras realizar una busqueda en internet se encontró la siguiente [pagina web](https://www.my-ekg.com/como-leer-ekg/frecuencia-cardiaca.html) donde se explica como realizar mediciones de frecuencia cardiaca en base a un electrocardiograma(EKG) *tradicional*\n",
    "\n",
    "### Calculo de la frecuencia cardiaca\n",
    "Una de las formas de medir la frecuencia cardiaca es medir el tiempo desde que late el corazon hasta que vuelve a realizar otro latido, una vez conocido este periodo, se debe realizar la siguiente formula\n",
    "\n",
    "FC=60/T\n",
    "\n",
    "Siendo:\n",
    "* FC= frecuencia cardiaca\n",
    "* 60= el equivalente de un minuto en segundos\n",
    "* T= periodo entre latido y latido **medido en segundos**\n",
    "\n",
    "Pero aun queda resolver como detectar cuando sucede un latido utilizando la información obtenida. Acá es donde surge la importancia de la pagina mencionada anteriormente, dentro de ella es explicado el *intervalo R-R* medido en un EKG. \n",
    "![IntervaloR-R](https://www.my-ekg.com/imag/heart-rate.png)\n",
    "Dicho intervalo es la distancia entre una onda R y la siguiente, dicha onda representa el latido del corazon y en un EKG se ve representado como los **picos maximos locales** en la señal\n",
    "\n",
    "Entonces ahora sabemos que los picos maximos graficados en el punto anterior representan los latidos del paciente."
   ]
  },
  {
   "cell_type": "code",
   "execution_count": 6,
   "metadata": {},
   "outputs": [],
   "source": [
    "#Haremos una funcion sencilla para calcular la frecuencia cardiaca promedio, \n",
    "# toma como parametro todos los intervalos medidos\n",
    "\n",
    "def F_Car(periodo):\n",
    "    #Primero guardaremos las frecuencias parciales en una lista\n",
    "    frecuencia=list()\n",
    "    \n",
    "    prom=float()\n",
    "    \n",
    "    #Hacemos el calculo de frecuencia con cada elemento del parametro recibido y lo guardamos en la lista \"frecuencia\"\n",
    "    for x in periodo:\n",
    "        frecuencia.append(float(60/x))\n",
    "    #acumulamos todas las frecuencias parciales\n",
    "    for y in frecuencia:\n",
    "        prom+=y\n",
    "    #Y las dividimos sobre la cantidad de frecuencias obtenidas y obtenemos el promedio final\n",
    "    prom/=len(frecuencia)\n",
    "    \n",
    "    #retornamos el valor del promedio\n",
    "    return prom"
   ]
  },
  {
   "cell_type": "code",
   "execution_count": 7,
   "metadata": {},
   "outputs": [
    {
     "data": {
      "image/png": "[encoded data removed]",
      "text/plain": [
       "<Figure size 432x288 with 1 Axes>"
      ]
     },
     "metadata": {
      "needs_background": "light"
     },
     "output_type": "display_data"
    },
    {
     "name": "stdout",
     "output_type": "stream",
     "text": [
      "Se obtuvieron los siguientes intervalos entre pico y pico\n",
      " [1.0916666666666663, 1.1472222222222221, 1.1722222222222234, 1.1194444444444436] \n",
      "\n",
      "La frecuencia promedio es  53.011230800844885\n"
     ]
    }
   ],
   "source": [
    "ploteo(xEC,yEC,0,xl='tiempo',yl='eV',tl='ElectroCardiograma')\n",
    "picos=pk_plot(yEC,xEC,1)\n",
    "plt.show()\n",
    "\n",
    "#Creamos una lista donde se guardaran todos los intervalos\n",
    "periodo=list()\n",
    "\n",
    "#Se itera el for por la cantidad de elementos en \"picos\" - 1 \n",
    "for p in range(len(picos)-1):\n",
    "    p1=xEC[picos[p]]    #p1 es el tiempo inicial del intervalo\n",
    "    p2=xEC[picos[p+1]]  #p2 es el tiempo final del intervalo\n",
    "    dif=p2-p1           #Calculo la distancia de del intervalo restando p1 de p2\n",
    "    periodo.append(dif) #Agrego el valor en la lista periodos\n",
    "\n",
    "# imprimimos los intervalos obtenidos\n",
    "print(\"Se obtuvieron los siguientes intervalos entre pico y pico\\n\",periodo,'\\n')\n",
    "\n",
    "#Llamamos la funcion F_Car para calcular la frecuencia cardiaca promedio\n",
    "print(\"La frecuencia promedio es \",F_Car(periodo))"
   ]
  },
  {
   "cell_type": "markdown",
   "metadata": {},
   "source": [
    "Ya sabemos que la frecuencia cardiaca del paciente es alrededor de 53 latidos por minutos, completamos otra consigna\n",
    "***\n",
    "\n",
    "\n",
    "## Reconocimiento del estado del paciente\n",
    "### Frecuencia Cardiaca en distintos niveles de actividad\n",
    "Siguiendo los [criterios de la frecuencia cardiaca](hhttps://www.desfibrilador.com/frecuencia-cardiaca-del-corazon/) sabemos que una persona adulta promedio tiene una **FCmax de entre 200 a 190 ppm (pulsaciones por minuto)** cuando se encuentra haciendo **actividad fisica una persona aumenta su frecuencia cardiaca llevandola entre 50% a 70% su FCmax**, dependiendo la intensidad de la misma, cuando la persona se encuentra en **reposo parcial (sentado o acostado despierto) la frecuencia baja alrededor de los 60 ppm, o sea, alrededor del 49% al 30% ** Y finalmente cuando una **persona duerme esta frecuencia se encuentra alrededor de los 50ppm**.\n",
    "Se aclara, estos parametros son para una persona **adulta sana** pero calculando la FCmax de una persona podemos determinar los valores de cada tipo de actividad, sintetizando:\n",
    "1. Frecuencia cardiaca activa: \n",
    "    * Actividad intensa>70% de FCmax\n",
    "    * 70% de FCmax > Actividad moderada > 60% de FCmax\n",
    "    * 60% de FCmax > Actividad ligera > 50% de FCmax\n",
    "2. Frecuencia cardiaca en reposo:\n",
    "    * 50% de FCmax > Paciente en reposo despierto > 30% de FCmax\n",
    "    * 30% de FCmax > Paciente durmiendo\n",
    "\n",
    "\n",
    "### Cálculo de Frecuencia Cardiaca máxima\n",
    "Ya se sabe cuanto varia la FC respecto de la FCmax en funcion de que tan activo estaba paciente al momento de realizarse una medición, pero aun sigue en incognito el valor de FCmax, ya que esta varía en funcion a las caracteristicas del paciente.\n",
    "Existe un calculo de FCmax referenciado en [otra seccion del articulo de WikiPedia](https://es.wikipedia.org/wiki/Frecuencia_card%C3%ADaca#Ecuaciones_m%C3%A1s_modernas) donde se calcula la FCmax en base al sexo, la edad y peso(en kg) del paciente:\n",
    "\n",
    "| Sexo |FCmax|\n",
    "|------|------|\n",
    "|Masculino| [(210 - (0,5 * edad en años)) - (0,01 * peso en kg) + 4]|\n",
    "|Femenino| [(210 - (0,5 * edad en años)) - (0,01 * peso en kg)]|\n",
    "\n",
    "Ya sabiendo esto se prosigue a realizar una función que analice la información del paciente y retorne el estado del mismo al momento de ser realizada la medición"
   ]
  },
  {
   "cell_type": "code",
   "execution_count": 8,
   "metadata": {},
   "outputs": [
    {
     "name": "stdout",
     "output_type": "stream",
     "text": [
      "Paciente durmiendo \n",
      "\n",
      "\n",
      "Fmax=  189.9 \n",
      "Porcentaje de la frecuencia dada respecto a Fmax:  42.1274354923644 %\n",
      "Paciente en reposo \n",
      "\n",
      "\n",
      "Fmax=  159.4 \n",
      "Porcentaje de la frecuencia dada respecto a Fmax:  50.18820577164366 %\n",
      "Paciente realizando actividad ligera \n",
      "\n",
      "\n"
     ]
    }
   ],
   "source": [
    "#Recibe la frecuencia promedio y el sexo, edad y peso del paciente\n",
    "def estado(Frec,Sexo,Edad,Peso,P=0):\n",
    "    Fmax=0\n",
    "    #Dependiendo el sexo del paciente se calcula la Frecuencia cardiaca Maxima en base a la edad y peso\n",
    "    if Sexo=='M':\n",
    "        Fmax=((210-(0.5*Edad))-(0.01*Peso)+4)\n",
    "    if Sexo=='F':\n",
    "        Fmax=((210-(0.5*Edad))-(0.01*Peso))\n",
    "    #Se obtiene que porcentaje representa la frecuencia medida respecto de la frecuencia maxima\n",
    "    Porcentaje=(Frec*100)/Fmax\n",
    "    \n",
    "    #Podemos imprimir la Fmax calculada y mostrar que porcentaje representa la frecuencia medida si es necesario\n",
    "    if P:\n",
    "        print(\"Fmax= \",Fmax,\"\\nPorcentaje de la frecuencia dada respecto a Fmax: \",Porcentaje,\"%\")\n",
    "    \n",
    "    \n",
    "    #Si el porcentaje es menor o igual a 70 \n",
    "    if Porcentaje<=70:\n",
    "        #Si el porcentaje es menor a 60\n",
    "        if Porcentaje<60:\n",
    "            if Porcentaje<50:\n",
    "                if Porcentaje<30: #Si es menor a 30\n",
    "                    return (\"Paciente durmiendo\")\n",
    "                #Si está entré 49 y 30\n",
    "                else:\n",
    "                    return (\"Paciente en reposo\")\n",
    "            #Si el porcentaje está entre 50 y 59\n",
    "            else:\n",
    "                return('Paciente realizando actividad ligera')\n",
    "        #Si el porcentaje esta entre 60 y 69\n",
    "        else:\n",
    "            return (\"Paciente realizando actividad fisica moderada\")\n",
    "    #Si el porcentaje es mayor a 70\n",
    "    else:\n",
    "        return (\"Paciente realizando actividad fisica intensa\")\n",
    "\n",
    "#Pruebas rapidas de la funcion (descomentar las lineas de codigo)\n",
    "#Llamo la funcion con datos propios\n",
    "print(estado(60,'M',19,54),\"\\n\\n\")\n",
    "#Llamo la funcion con diferentes valores\n",
    "print(estado(80,'F',39,60,1),\"\\n\\n\")\n",
    "#Llamo la funcion con los mismo valores que la anterior pero distinta edad\n",
    "print(estado(80,'F',100,60,1),\"\\n\\n\")"
   ]
  },
  {
   "cell_type": "markdown",
   "metadata": {},
   "source": [
    "***\n",
    "\n",
    "Habiendo creado la funcion necesaria, debemos unificarla con el programa anterior pidiendo al usuario que ingrese la información del paciente, es probable que quien ingrese la información tenga errores que ocasionen que el programa falle, debemos evitar en la medida de lo posible estos errores, entonces haremos una funcion que filtre la entrada del usuario:\n",
    "\n",
    "Para está función se buscó acerca de los bloques [try y except](https://www.w3schools.com/python/python_try_except.asp) para detectar errores y actuar en consecuencia"
   ]
  },
  {
   "cell_type": "code",
   "execution_count": 9,
   "metadata": {},
   "outputs": [],
   "source": [
    "#Esta funcion tendra el objetivo de pedir al usuario que reingrese la informacion pedida hasta que ingrese valores aptos\n",
    "#Tambien puede corregir algunos errores predecibles\n",
    "def GGD(dato):#GGD: Get good data\n",
    "    data=0\n",
    "    #Si se requiere el dato del sexo\n",
    "    if dato=='sexo':\n",
    "        #listas con diferentes formas de referirse a una persona de sexo masculino o femenino\n",
    "        V_sexM=['M','HOMBRE','MACHO','CHICO','PIBE','VARON','MASCULINO']\n",
    "        V_sexF=['F','MUJER','HEMBRA','CHICA','PIBA','FEMENINO','FEMENINA']\n",
    "        \n",
    "        \n",
    "        tildes=['Á','É','Í','Ó','Ú']\n",
    "        vocales=['A','E','I','O','U']\n",
    "        \n",
    "        while 1:\n",
    "            data=input('Ingrese sexo del paciente (M)asculino/(F)emenino: ')\n",
    "            try:\n",
    "                #Si puedo transformar el Sexo en numeros es porque se ingresó un valor numerico\n",
    "                data=int(data)\n",
    "                #Se pide el reingreso del sexo en palabras\n",
    "                print('Ingrese sexo en palabras')\n",
    "            #Si sucede un ValueError(Por tratar de transformar palabras en numeros)\n",
    "            except ValueError:\n",
    "                #paso la entrada a mayusculas\n",
    "                data=data.upper()\n",
    "                \n",
    "                #Chequeo cada caracter de la palabra introducida\n",
    "                for caracter in range(len(tildes)):\n",
    "                    #Si alguna de las vocales tiene tilde, la reemplazo por la vocal sin tilde\n",
    "                    if tildes[caracter] in data:\n",
    "                         data=data.replace(tildes[caracter],vocales[caracter])\n",
    "                        \n",
    "                #Si la entrada esta en las variables de sexo masculino\n",
    "                if (data in V_sexM):\n",
    "                    #Cambio la entrada al valor valido para la funcion\n",
    "                    data='M'\n",
    "                    #Se guardó un valor valido asi que se rompe la condición de while\n",
    "                    break\n",
    "                #Si la entrada esta en las variables de sexo femenino\n",
    "                elif (data in V_sexF):\n",
    "                    #Cambio la entrada al valor valido para la funcion\n",
    "                    data='F'\n",
    "                    #Se guardó un valor valido asi que se rompe la condición de while\n",
    "                    break\n",
    "                #Si no se reconoce la entrada entonces se pide reingreso del sexo\n",
    "                else:\n",
    "                    print('Traducí porfa, soy ingresante')\n",
    "                    \n",
    "    #Si se requiere el dato de edad o peso\n",
    "    if dato=='edad' or dato=='peso':\n",
    "        while True:\n",
    "            if dato=='edad':\n",
    "                data=input(('Ingrese edad del paciente: '))\n",
    "            else:\n",
    "                data=input(('Ingrese el peso del paciente en kg: '))\n",
    "            try:\n",
    "                #Se reemplaza la coma por un punto en caso de que se haya ingresado una variable con decimales\n",
    "                if ',' in data:\n",
    "                    data=data.replace(',','.')\n",
    "                #Se trata de transformar la data en float\n",
    "                data=float(data)\n",
    "                #Si se logra entonces el dato es valido, se rompe el bucle\n",
    "                break\n",
    "            #Si se detecta un error\n",
    "            except ValueError:\n",
    "                #Se pide reingreso de la información\n",
    "                print(\"Ingrese la información requerida en numeros\")\n",
    "    #Una vez obtenido un valor valido, se retorna el valor obtenido\n",
    "    return data\n",
    "\n",
    "#Llamo a la funcion para probarla\n",
    "# print(GGD('sexo'))\n",
    "# print(GGD('edad'))\n",
    "# print(GGD('peso'))"
   ]
  },
  {
   "cell_type": "code",
   "execution_count": 10,
   "metadata": {
    "scrolled": true
   },
   "outputs": [
    {
     "name": "stdout",
     "output_type": "stream",
     "text": [
      "La frecuencia promedio es  53.011230800844885\n",
      "Ingrese sexo del paciente (M)asculino/(F)emenino: m\n",
      "M\n",
      "Ingrese edad del paciente: 100\n",
      "100.0\n",
      "Ingrese el peso del paciente en kg: 120\n",
      "120.0\n",
      "Fmax=  162.8 \n",
      "Porcentaje de la frecuencia dada respecto a Fmax:  32.56218108160005 %\n",
      "Paciente en reposo\n"
     ]
    }
   ],
   "source": [
    "#Llamamos la funcion F_Car para calcular la frecuencia cardiaca promedio\n",
    "F_Prom=F_Car(periodo)\n",
    "print(\"La frecuencia promedio es \",F_Prom)\n",
    "\n",
    "\n",
    "sexo=GGD('sexo')\n",
    "print(sexo)\n",
    "edad=GGD('edad')\n",
    "print(edad)\n",
    "peso=GGD('peso')\n",
    "print(peso)\n",
    "\n",
    "print(estado(F_Prom,sexo,edad,peso,1))"
   ]
  },
  {
   "cell_type": "markdown",
   "metadata": {},
   "source": [
    "***\n",
    "\n",
    "## Guardar archivo información en archivo \".txt\"\n",
    "Ya habiendo obtenido todos los datos pedidos solo quedá guardar toda dentro de un archivo de texto (.txt).\n",
    "Cada vez que se corra el script de forma exitosa se **añadiran** los resultados e información recopilada al final de un archivo de texto"
   ]
  },
  {
   "cell_type": "code",
   "execution_count": 11,
   "metadata": {},
   "outputs": [
    {
     "name": "stdout",
     "output_type": "stream",
     "text": [
      "Ingrese sexo del paciente (M)asculino/(F)emenino: m\n",
      "M\n",
      "Ingrese edad del paciente: 19\n",
      "19.0\n",
      "Ingrese el peso del paciente en kg: 60\n",
      "60.0\n",
      "Fmax=  203.9 \n",
      "Porcentaje de la frecuencia dada respecto a Fmax:  25.99864188369048 %\n",
      "Paciente durmiendo\n",
      "\n",
      "Ingrese \"SI\" si desea seguir realizando pruebas con diferentes datos\n",
      "Ingrese cualquier otro dato para detener las pruebas\n",
      " \n",
      "Fin del programa\n"
     ]
    }
   ],
   "source": [
    "mas='SI'\n",
    "while mas=='SI':\n",
    "    #Obtenemos las variables necesarias\n",
    "    sexo=GGD('sexo')\n",
    "    print(sexo)\n",
    "    edad=GGD('edad')\n",
    "    print(edad)\n",
    "    peso=GGD('peso')\n",
    "    print(peso)\n",
    "    \n",
    "    #obtenemos el nivel de actividad del paciente\n",
    "    actividad=estado(F_Prom,sexo,edad,peso,1)\n",
    "    print(actividad)\n",
    "    \n",
    "    #Abrimos el archivo como Analisis, si el archivo no existe, lo creamos\n",
    "    with open('Analisis.txt','a+') as analisis:\n",
    "        #Preparamos una string con la informacion que queremos guardar en el archivo con el siguiente formato:\n",
    "        #Analisis c_analisis\n",
    "        #Sexo: sexo\n",
    "        #Edad: edad\n",
    "        #Peso: peso\n",
    "        #Frecuencia cardiaca: F_Prom\n",
    "        #Estado del paciente durante la medición: actividad\n",
    "        escritura=\"Analisis \"\n",
    "        escritura+=\"\\nSexo: \"+ sexo\n",
    "        escritura+=\"\\nEdad: \"+ str(int(edad))\n",
    "        escritura+=\"\\nPeso: \"+str(peso)\n",
    "        escritura+=\"\\nFrecuencia cardiaca: \"+str(\"%.2f\" %F_Prom)\n",
    "        escritura+=\"\\nEstado del paciente durante la medición: \"+actividad+\"\\n\\n\"\n",
    "        \n",
    "        #Escribo en el archivo el contenido de escritura\n",
    "        analisis.write(escritura)\n",
    "    #Una vez finalizado el with, se cierra el archivo\n",
    "    #Y se pregunta si se quiere cargar otro set de datos\n",
    "    mas=input(\"\\nIngrese \\\"SI\\\" si desea seguir realizando pruebas con diferentes datos\\nIngrese cualquier otro dato para detener las pruebas\\n \")\n",
    "    mas=mas.upper()\n",
    "    if mas=='420' or mas=='69': \n",
    "        print('Nice')\n",
    "        mas='SI'\n",
    "    elif mas=='never gonna give you up':\n",
    "        print('never gonna let you down')\n",
    "        mas='SI'\n",
    "    if not(mas=='SI'):\n",
    "        print('Fin del programa')\n"
   ]
  }
 ],
 "metadata": {
  "kernelspec": {
   "display_name": "Python 3",
   "language": "python",
   "name": "python3"
  },
  "language_info": {
   "codemirror_mode": {
    "name": "ipython",
    "version": 3
   },
   "file_extension": ".py",
   "mimetype": "text/x-python",
   "name": "python",
   "nbconvert_exporter": "python",
   "pygments_lexer": "ipython3",
   "version": "3.7.0"
  }
 },
 "nbformat": 4,
 "nbformat_minor": 2
}
